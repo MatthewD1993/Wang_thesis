{
 "cells": [
  {
   "cell_type": "code",
   "execution_count": 1,
   "id": "2431f808-2c89-4e53-9f97-8469e8e563f6",
   "metadata": {},
   "outputs": [],
   "source": [
    "import pandas as pd\n",
    "from sklearn.model_selection import RepeatedKFold, cross_val_score\n",
    "from collections import Counter\n",
    "from xgboost import XGBClassifier "
   ]
  },
  {
   "cell_type": "code",
   "execution_count": 3,
   "id": "3e06dd5a-9caa-40f4-9ad3-6dd7018478e2",
   "metadata": {},
   "outputs": [],
   "source": [
    "data_p = './data/new_clean.csv'\n",
    "data = pd.read_csv(data_p)"
   ]
  },
  {
   "cell_type": "code",
   "execution_count": 2,
   "id": "c067b55b-1fc3-4ea5-a777-a61ff7c242ce",
   "metadata": {},
   "outputs": [],
   "source": [
    "data_p = './data/data_v1.xlsx'\n",
    "data = pd.read_excel(data_p)"
   ]
  },
  {
   "cell_type": "code",
   "execution_count": 4,
   "id": "875be025-723f-42f5-9b36-34a2f9da8ea3",
   "metadata": {},
   "outputs": [
    {
     "data": {
      "text/html": [
       "<div>\n",
       "<style scoped>\n",
       "    .dataframe tbody tr th:only-of-type {\n",
       "        vertical-align: middle;\n",
       "    }\n",
       "\n",
       "    .dataframe tbody tr th {\n",
       "        vertical-align: top;\n",
       "    }\n",
       "\n",
       "    .dataframe thead th {\n",
       "        text-align: right;\n",
       "    }\n",
       "</style>\n",
       "<table border=\"1\" class=\"dataframe\">\n",
       "  <thead>\n",
       "    <tr style=\"text-align: right;\">\n",
       "      <th></th>\n",
       "      <th>年龄</th>\n",
       "      <th>受教育年限</th>\n",
       "      <th>病程</th>\n",
       "      <th>HAME总分</th>\n",
       "      <th>UPDRSII总分</th>\n",
       "      <th>UPDRSIII总分</th>\n",
       "      <th>RBD总分</th>\n",
       "      <th>PDSS</th>\n",
       "      <th>中医老年颤证评分</th>\n",
       "      <th>SCOPAAUT评分</th>\n",
       "      <th>PDQ39总分</th>\n",
       "      <th>是否抑郁</th>\n",
       "      <th>编号</th>\n",
       "      <th>组别</th>\n",
       "      <th>姓名</th>\n",
       "    </tr>\n",
       "  </thead>\n",
       "  <tbody>\n",
       "    <tr>\n",
       "      <th>0</th>\n",
       "      <td>71</td>\n",
       "      <td>7</td>\n",
       "      <td>19</td>\n",
       "      <td>2</td>\n",
       "      <td>8</td>\n",
       "      <td>9</td>\n",
       "      <td>3</td>\n",
       "      <td>119</td>\n",
       "      <td>6</td>\n",
       "      <td>6</td>\n",
       "      <td>6</td>\n",
       "      <td>0</td>\n",
       "      <td>20</td>\n",
       "      <td>2</td>\n",
       "      <td>成桂炎</td>\n",
       "    </tr>\n",
       "    <tr>\n",
       "      <th>1</th>\n",
       "      <td>88</td>\n",
       "      <td>11</td>\n",
       "      <td>18</td>\n",
       "      <td>1</td>\n",
       "      <td>3</td>\n",
       "      <td>15</td>\n",
       "      <td>1</td>\n",
       "      <td>144</td>\n",
       "      <td>6</td>\n",
       "      <td>7</td>\n",
       "      <td>6</td>\n",
       "      <td>0</td>\n",
       "      <td>29</td>\n",
       "      <td>2</td>\n",
       "      <td>阮祖成</td>\n",
       "    </tr>\n",
       "    <tr>\n",
       "      <th>2</th>\n",
       "      <td>60</td>\n",
       "      <td>11</td>\n",
       "      <td>19</td>\n",
       "      <td>0</td>\n",
       "      <td>2</td>\n",
       "      <td>18</td>\n",
       "      <td>1</td>\n",
       "      <td>148</td>\n",
       "      <td>7</td>\n",
       "      <td>0</td>\n",
       "      <td>2</td>\n",
       "      <td>0</td>\n",
       "      <td>31</td>\n",
       "      <td>2</td>\n",
       "      <td>吕祥林</td>\n",
       "    </tr>\n",
       "    <tr>\n",
       "      <th>3</th>\n",
       "      <td>66</td>\n",
       "      <td>9</td>\n",
       "      <td>20</td>\n",
       "      <td>10</td>\n",
       "      <td>3</td>\n",
       "      <td>9</td>\n",
       "      <td>0</td>\n",
       "      <td>145</td>\n",
       "      <td>7</td>\n",
       "      <td>0</td>\n",
       "      <td>5</td>\n",
       "      <td>0</td>\n",
       "      <td>46</td>\n",
       "      <td>2</td>\n",
       "      <td>马美云</td>\n",
       "    </tr>\n",
       "    <tr>\n",
       "      <th>4</th>\n",
       "      <td>65</td>\n",
       "      <td>16</td>\n",
       "      <td>19</td>\n",
       "      <td>0</td>\n",
       "      <td>4</td>\n",
       "      <td>19</td>\n",
       "      <td>6</td>\n",
       "      <td>122</td>\n",
       "      <td>6</td>\n",
       "      <td>5</td>\n",
       "      <td>5</td>\n",
       "      <td>0</td>\n",
       "      <td>56</td>\n",
       "      <td>1</td>\n",
       "      <td>GCMI</td>\n",
       "    </tr>\n",
       "  </tbody>\n",
       "</table>\n",
       "</div>"
      ],
      "text/plain": [
       "   年龄  受教育年限  病程  HAME总分  UPDRSII总分  UPDRSIII总分  RBD总分  PDSS  中医老年颤证评分  \\\n",
       "0  71      7  19       2          8           9      3   119         6   \n",
       "1  88     11  18       1          3          15      1   144         6   \n",
       "2  60     11  19       0          2          18      1   148         7   \n",
       "3  66      9  20      10          3           9      0   145         7   \n",
       "4  65     16  19       0          4          19      6   122         6   \n",
       "\n",
       "   SCOPAAUT评分  PDQ39总分  是否抑郁  编号  组别    姓名  \n",
       "0           6        6     0  20   2   成桂炎  \n",
       "1           7        6     0  29   2   阮祖成  \n",
       "2           0        2     0  31   2   吕祥林  \n",
       "3           0        5     0  46   2   马美云  \n",
       "4           5        5     0  56   1  GCMI  "
      ]
     },
     "execution_count": 4,
     "metadata": {},
     "output_type": "execute_result"
    }
   ],
   "source": [
    "data.head()"
   ]
  },
  {
   "cell_type": "code",
   "execution_count": 5,
   "id": "ac9aae51-8ad2-400a-89dd-c139823d49f0",
   "metadata": {},
   "outputs": [],
   "source": [
    "data['label'] = (data.是否抑郁 >0).astype(int)"
   ]
  },
  {
   "cell_type": "code",
   "execution_count": 9,
   "id": "579d33dc-4f5e-4255-950a-35cf02b1cff9",
   "metadata": {},
   "outputs": [
    {
     "data": {
      "text/plain": [
       "label\n",
       "0    77\n",
       "1    55\n",
       "dtype: int64"
      ]
     },
     "execution_count": 9,
     "metadata": {},
     "output_type": "execute_result"
    }
   ],
   "source": [
    "data.groupby(['label']).size()"
   ]
  },
  {
   "cell_type": "code",
   "execution_count": 23,
   "id": "eb8551cc-5dbe-4b9b-aee8-1461c6b82582",
   "metadata": {},
   "outputs": [],
   "source": [
    "from sklearn.model_selection import train_test_split\n",
    "\n",
    "train, test = train_test_split(data, test_size=0.2, random_state=100)"
   ]
  },
  {
   "cell_type": "code",
   "execution_count": 24,
   "id": "7c239257-c17c-4b2b-af40-b8f05087ca4d",
   "metadata": {},
   "outputs": [
    {
     "name": "stdout",
     "output_type": "stream",
     "text": [
      "label\n",
      "0    62\n",
      "1    43\n",
      "dtype: int64\n"
     ]
    },
    {
     "data": {
      "text/html": [
       "<div>\n",
       "<style scoped>\n",
       "    .dataframe tbody tr th:only-of-type {\n",
       "        vertical-align: middle;\n",
       "    }\n",
       "\n",
       "    .dataframe tbody tr th {\n",
       "        vertical-align: top;\n",
       "    }\n",
       "\n",
       "    .dataframe thead th {\n",
       "        text-align: right;\n",
       "    }\n",
       "</style>\n",
       "<table border=\"1\" class=\"dataframe\">\n",
       "  <thead>\n",
       "    <tr style=\"text-align: right;\">\n",
       "      <th></th>\n",
       "      <th>年龄</th>\n",
       "      <th>受教育年限</th>\n",
       "      <th>病程</th>\n",
       "      <th>HAME总分</th>\n",
       "      <th>UPDRSII总分</th>\n",
       "      <th>UPDRSIII总分</th>\n",
       "      <th>RBD总分</th>\n",
       "      <th>PDSS</th>\n",
       "      <th>中医老年颤证评分</th>\n",
       "      <th>SCOPAAUT评分</th>\n",
       "      <th>PDQ39总分</th>\n",
       "      <th>是否抑郁</th>\n",
       "      <th>编号</th>\n",
       "      <th>组别</th>\n",
       "      <th>姓名</th>\n",
       "      <th>label</th>\n",
       "    </tr>\n",
       "  </thead>\n",
       "  <tbody>\n",
       "    <tr>\n",
       "      <th>37</th>\n",
       "      <td>76</td>\n",
       "      <td>11</td>\n",
       "      <td>32</td>\n",
       "      <td>5</td>\n",
       "      <td>3</td>\n",
       "      <td>8</td>\n",
       "      <td>6</td>\n",
       "      <td>116</td>\n",
       "      <td>4</td>\n",
       "      <td>4</td>\n",
       "      <td>8</td>\n",
       "      <td>0</td>\n",
       "      <td>120</td>\n",
       "      <td>1</td>\n",
       "      <td>朱秀琴</td>\n",
       "      <td>0</td>\n",
       "    </tr>\n",
       "    <tr>\n",
       "      <th>72</th>\n",
       "      <td>72</td>\n",
       "      <td>16</td>\n",
       "      <td>136</td>\n",
       "      <td>6</td>\n",
       "      <td>8</td>\n",
       "      <td>31</td>\n",
       "      <td>0</td>\n",
       "      <td>132</td>\n",
       "      <td>13</td>\n",
       "      <td>6</td>\n",
       "      <td>10</td>\n",
       "      <td>0</td>\n",
       "      <td>25</td>\n",
       "      <td>2</td>\n",
       "      <td>冯达礼</td>\n",
       "      <td>0</td>\n",
       "    </tr>\n",
       "    <tr>\n",
       "      <th>76</th>\n",
       "      <td>67</td>\n",
       "      <td>0</td>\n",
       "      <td>34</td>\n",
       "      <td>4</td>\n",
       "      <td>3</td>\n",
       "      <td>8</td>\n",
       "      <td>3</td>\n",
       "      <td>59</td>\n",
       "      <td>2</td>\n",
       "      <td>5</td>\n",
       "      <td>6</td>\n",
       "      <td>0</td>\n",
       "      <td>94</td>\n",
       "      <td>2</td>\n",
       "      <td>潘美爱</td>\n",
       "      <td>0</td>\n",
       "    </tr>\n",
       "    <tr>\n",
       "      <th>26</th>\n",
       "      <td>67</td>\n",
       "      <td>9</td>\n",
       "      <td>44</td>\n",
       "      <td>19</td>\n",
       "      <td>9</td>\n",
       "      <td>18</td>\n",
       "      <td>6</td>\n",
       "      <td>94</td>\n",
       "      <td>7</td>\n",
       "      <td>12</td>\n",
       "      <td>34</td>\n",
       "      <td>0</td>\n",
       "      <td>9</td>\n",
       "      <td>1</td>\n",
       "      <td>支宝娣</td>\n",
       "      <td>0</td>\n",
       "    </tr>\n",
       "    <tr>\n",
       "      <th>99</th>\n",
       "      <td>77</td>\n",
       "      <td>6</td>\n",
       "      <td>199</td>\n",
       "      <td>9</td>\n",
       "      <td>8</td>\n",
       "      <td>16</td>\n",
       "      <td>1</td>\n",
       "      <td>130</td>\n",
       "      <td>2</td>\n",
       "      <td>12</td>\n",
       "      <td>12</td>\n",
       "      <td>1</td>\n",
       "      <td>128</td>\n",
       "      <td>2</td>\n",
       "      <td>胡青芽</td>\n",
       "      <td>1</td>\n",
       "    </tr>\n",
       "  </tbody>\n",
       "</table>\n",
       "</div>"
      ],
      "text/plain": [
       "    年龄  受教育年限   病程  HAME总分  UPDRSII总分  UPDRSIII总分  RBD总分  PDSS  中医老年颤证评分  \\\n",
       "37  76     11   32       5          3           8      6   116         4   \n",
       "72  72     16  136       6          8          31      0   132        13   \n",
       "76  67      0   34       4          3           8      3    59         2   \n",
       "26  67      9   44      19          9          18      6    94         7   \n",
       "99  77      6  199       9          8          16      1   130         2   \n",
       "\n",
       "    SCOPAAUT评分  PDQ39总分  是否抑郁   编号  组别   姓名  label  \n",
       "37           4        8     0  120   1  朱秀琴      0  \n",
       "72           6       10     0   25   2  冯达礼      0  \n",
       "76           5        6     0   94   2  潘美爱      0  \n",
       "26          12       34     0    9   1  支宝娣      0  \n",
       "99          12       12     1  128   2  胡青芽      1  "
      ]
     },
     "execution_count": 24,
     "metadata": {},
     "output_type": "execute_result"
    }
   ],
   "source": [
    "print(train.groupby(['label']).size())\n",
    "train.head()"
   ]
  },
  {
   "cell_type": "code",
   "execution_count": 25,
   "id": "3d3ad47a-042a-4348-846c-18ce4e59804a",
   "metadata": {},
   "outputs": [
    {
     "name": "stdout",
     "output_type": "stream",
     "text": [
      "label\n",
      "0    15\n",
      "1    12\n",
      "dtype: int64\n"
     ]
    },
    {
     "data": {
      "text/html": [
       "<div>\n",
       "<style scoped>\n",
       "    .dataframe tbody tr th:only-of-type {\n",
       "        vertical-align: middle;\n",
       "    }\n",
       "\n",
       "    .dataframe tbody tr th {\n",
       "        vertical-align: top;\n",
       "    }\n",
       "\n",
       "    .dataframe thead th {\n",
       "        text-align: right;\n",
       "    }\n",
       "</style>\n",
       "<table border=\"1\" class=\"dataframe\">\n",
       "  <thead>\n",
       "    <tr style=\"text-align: right;\">\n",
       "      <th></th>\n",
       "      <th>年龄</th>\n",
       "      <th>受教育年限</th>\n",
       "      <th>病程</th>\n",
       "      <th>HAME总分</th>\n",
       "      <th>UPDRSII总分</th>\n",
       "      <th>UPDRSIII总分</th>\n",
       "      <th>RBD总分</th>\n",
       "      <th>PDSS</th>\n",
       "      <th>中医老年颤证评分</th>\n",
       "      <th>SCOPAAUT评分</th>\n",
       "      <th>PDQ39总分</th>\n",
       "      <th>是否抑郁</th>\n",
       "      <th>编号</th>\n",
       "      <th>组别</th>\n",
       "      <th>姓名</th>\n",
       "      <th>label</th>\n",
       "    </tr>\n",
       "  </thead>\n",
       "  <tbody>\n",
       "    <tr>\n",
       "      <th>28</th>\n",
       "      <td>67</td>\n",
       "      <td>0</td>\n",
       "      <td>43</td>\n",
       "      <td>4</td>\n",
       "      <td>6</td>\n",
       "      <td>20</td>\n",
       "      <td>2</td>\n",
       "      <td>138</td>\n",
       "      <td>5</td>\n",
       "      <td>4</td>\n",
       "      <td>9</td>\n",
       "      <td>0</td>\n",
       "      <td></td>\n",
       "      <td>2</td>\n",
       "      <td>DIQH</td>\n",
       "      <td>0</td>\n",
       "    </tr>\n",
       "    <tr>\n",
       "      <th>131</th>\n",
       "      <td>67</td>\n",
       "      <td>7</td>\n",
       "      <td>76</td>\n",
       "      <td>46</td>\n",
       "      <td>14</td>\n",
       "      <td>15</td>\n",
       "      <td>12</td>\n",
       "      <td>90</td>\n",
       "      <td>7</td>\n",
       "      <td>19</td>\n",
       "      <td>87</td>\n",
       "      <td>2</td>\n",
       "      <td>77</td>\n",
       "      <td>2</td>\n",
       "      <td>顾建新</td>\n",
       "      <td>1</td>\n",
       "    </tr>\n",
       "    <tr>\n",
       "      <th>45</th>\n",
       "      <td>61</td>\n",
       "      <td>9</td>\n",
       "      <td>29</td>\n",
       "      <td>0</td>\n",
       "      <td>13</td>\n",
       "      <td>20</td>\n",
       "      <td>4</td>\n",
       "      <td>95</td>\n",
       "      <td>10</td>\n",
       "      <td>1</td>\n",
       "      <td>43</td>\n",
       "      <td>0</td>\n",
       "      <td>67</td>\n",
       "      <td>2</td>\n",
       "      <td>王小娟</td>\n",
       "      <td>0</td>\n",
       "    </tr>\n",
       "    <tr>\n",
       "      <th>73</th>\n",
       "      <td>69</td>\n",
       "      <td>7</td>\n",
       "      <td>15</td>\n",
       "      <td>10</td>\n",
       "      <td>8</td>\n",
       "      <td>12</td>\n",
       "      <td>0</td>\n",
       "      <td>146</td>\n",
       "      <td>6</td>\n",
       "      <td>2</td>\n",
       "      <td>6</td>\n",
       "      <td>0</td>\n",
       "      <td>41</td>\n",
       "      <td>2</td>\n",
       "      <td>杨素瑛</td>\n",
       "      <td>0</td>\n",
       "    </tr>\n",
       "    <tr>\n",
       "      <th>33</th>\n",
       "      <td>66</td>\n",
       "      <td>4</td>\n",
       "      <td>35</td>\n",
       "      <td>11</td>\n",
       "      <td>6</td>\n",
       "      <td>19</td>\n",
       "      <td>0</td>\n",
       "      <td>28</td>\n",
       "      <td>7</td>\n",
       "      <td>12</td>\n",
       "      <td>32</td>\n",
       "      <td>0</td>\n",
       "      <td>91</td>\n",
       "      <td>1</td>\n",
       "      <td>章秋梅</td>\n",
       "      <td>0</td>\n",
       "    </tr>\n",
       "  </tbody>\n",
       "</table>\n",
       "</div>"
      ],
      "text/plain": [
       "     年龄  受教育年限  病程  HAME总分  UPDRSII总分  UPDRSIII总分  RBD总分  PDSS  中医老年颤证评分  \\\n",
       "28   67      0  43       4          6          20      2   138         5   \n",
       "131  67      7  76      46         14          15     12    90         7   \n",
       "45   61      9  29       0         13          20      4    95        10   \n",
       "73   69      7  15      10          8          12      0   146         6   \n",
       "33   66      4  35      11          6          19      0    28         7   \n",
       "\n",
       "     SCOPAAUT评分  PDQ39总分  是否抑郁  编号  组别    姓名  label  \n",
       "28            4        9     0       2  DIQH      0  \n",
       "131          19       87     2  77   2   顾建新      1  \n",
       "45            1       43     0  67   2   王小娟      0  \n",
       "73            2        6     0  41   2   杨素瑛      0  \n",
       "33           12       32     0  91   1   章秋梅      0  "
      ]
     },
     "execution_count": 25,
     "metadata": {},
     "output_type": "execute_result"
    }
   ],
   "source": [
    "print(test.groupby(['label']).size())\n",
    "test.head()"
   ]
  },
  {
   "cell_type": "code",
   "execution_count": null,
   "id": "15bb1b68-2e2c-45b9-8821-f47efc621529",
   "metadata": {},
   "outputs": [
    {
     "data": {
      "text/plain": [
       "37     0\n",
       "72     0\n",
       "76     0\n",
       "26     0\n",
       "99     1\n",
       "      ..\n",
       "87     1\n",
       "103    1\n",
       "67     0\n",
       "24     0\n",
       "8      0\n",
       "Name: label, Length: 105, dtype: int64"
      ]
     },
     "execution_count": 30,
     "metadata": {},
     "output_type": "execute_result"
    }
   ],
   "source": [
    "train.iloc[:,-1]"
   ]
  },
  {
   "cell_type": "code",
   "execution_count": null,
   "id": "062636ca-dac1-4c98-952b-ffd6f89002b1",
   "metadata": {},
   "outputs": [],
   "source": [
    "param_dist = {'objective':'binary:logistic', 'n_estimators':2}\n",
    "\n",
    "clf = xgb.XGBModel(**param_dist)\n",
    "\n",
    "clf.fit(X_train, y_train,\n",
    "        eval_set=[(X_train, y_train), (X_test, y_test)],\n",
    "        eval_metric='logloss',\n",
    "        verbose=True)\n",
    "\n",
    "evals_result = clf.evals_result()"
   ]
  },
  {
   "cell_type": "code",
   "execution_count": 32,
   "id": "33b6118a-b843-402e-9437-4aa417306fec",
   "metadata": {},
   "outputs": [
    {
     "name": "stdout",
     "output_type": "stream",
     "text": [
      "[0]\tvalidation_0-logloss:0.53118\tvalidation_1-logloss:0.58385\n",
      "[1]\tvalidation_0-logloss:0.43623\tvalidation_1-logloss:0.52666\n"
     ]
    }
   ],
   "source": [
    "param_dist = {'objective':'binary:logistic', 'n_estimators':2}\n",
    "\n",
    "clf = XGBClassifier(**param_dist)\n",
    "\n",
    "clf.fit(train.iloc[:,:11], train.iloc[:,-1],\n",
    "        eval_set=[(train.iloc[:,:11], train.iloc[:,-1] ), (test.iloc[:,:11] ,  test.iloc[:,-1])],\n",
    "        eval_metric='logloss',\n",
    "        verbose=True)\n",
    "\n",
    "evals_result = clf.evals_result()"
   ]
  },
  {
   "cell_type": "code",
   "execution_count": 38,
   "id": "1a7622a6-b10f-4129-966b-3ef4693876ec",
   "metadata": {},
   "outputs": [
    {
     "data": {
      "text/plain": [
       "array([0.02356129, 0.06048706, 0.03803789, 0.7304981 , 0.09771715,\n",
       "       0.        , 0.        , 0.00476882, 0.04492973, 0.        ,\n",
       "       0.        ], dtype=float32)"
      ]
     },
     "execution_count": 38,
     "metadata": {},
     "output_type": "execute_result"
    }
   ],
   "source": [
    "clf.feature_importances_"
   ]
  },
  {
   "cell_type": "code",
   "execution_count": 61,
   "id": "a1fa11d3-5b9a-40b6-96fe-0d0a20245a63",
   "metadata": {},
   "outputs": [
    {
     "data": {
      "text/plain": [
       "['年龄',\n",
       " '受教育年限',\n",
       " '病程',\n",
       " 'HAME总分',\n",
       " 'UPDRSII总分',\n",
       " 'UPDRSIII总分',\n",
       " 'RBD总分',\n",
       " 'PDSS',\n",
       " '中医老年颤证评分',\n",
       " 'SCOPAAUT评分',\n",
       " 'PDQ39总分']"
      ]
     },
     "execution_count": 61,
     "metadata": {},
     "output_type": "execute_result"
    }
   ],
   "source": [
    "list(train.columns[:11])"
   ]
  },
  {
   "cell_type": "code",
   "execution_count": 60,
   "id": "4e6524be-fb4e-41dd-b220-deee96aa2421",
   "metadata": {},
   "outputs": [
    {
     "data": {
      "image/png": "[encoded data removed]",
      "text/plain": [
       "<Figure size 432x288 with 1 Axes>"
      ]
     },
     "metadata": {
      "needs_background": "light"
     },
     "output_type": "display_data"
    }
   ],
   "source": [
    "plt.bar(range(len(clf.feature_importances_)), clf.feature_importances_)\n",
    "plt.show()"
   ]
  },
  {
   "cell_type": "code",
   "execution_count": 59,
   "id": "cb5dd46c-cc57-4f3d-b0db-0ba1c60da2a2",
   "metadata": {},
   "outputs": [
    {
     "data": {
      "image/png": "[encoded data removed]",
      "text/plain": [
       "<Figure size 432x288 with 1 Axes>"
      ]
     },
     "metadata": {
      "needs_background": "light"
     },
     "output_type": "display_data"
    }
   ],
   "source": [
    "from xgboost import plot_importance\n",
    "from matplotlib import pyplot as plt\n",
    "plt.rcParams['font.sans-serif'] = ['Arial Unicode MS']# 能显示中文\n",
    "# plt.rcParams['font.sans-serif']=['SimHei'] #用来正常显示中文标签\n",
    "# plt.rcParams['axes.unicode_minus']=False #用来正常显示负号\n",
    "\n",
    "plot_importance(clf)\n",
    "plt.show()"
   ]
  },
  {
   "cell_type": "code",
   "execution_count": 46,
   "id": "aa7ab5c7-1e75-4fea-850d-7c285af73083",
   "metadata": {},
   "outputs": [
    {
     "data": {
      "text/plain": [
       "[('HAME总分', 0.7304981),\n",
       " ('UPDRSII总分', 0.09771715),\n",
       " ('受教育年限', 0.06048706),\n",
       " ('中医老年颤证评分', 0.04492973),\n",
       " ('病程', 0.038037892),\n",
       " ('年龄', 0.023561293),\n",
       " ('PDSS', 0.004768821),\n",
       " ('UPDRSIII总分', 0.0),\n",
       " ('RBD总分', 0.0),\n",
       " ('SCOPAAUT评分', 0.0),\n",
       " ('PDQ39总分', 0.0)]"
      ]
     },
     "execution_count": 46,
     "metadata": {},
     "output_type": "execute_result"
    }
   ],
   "source": [
    "sorted(list(zip(list(train.columns[:11]),clf.feature_importances_)), key=lambda x:x[1], reverse=True)"
   ]
  },
  {
   "cell_type": "code",
   "execution_count": null,
   "id": "d41f8327-f8dd-4965-b3f7-f91730945beb",
   "metadata": {},
   "outputs": [],
   "source": []
  },
  {
   "cell_type": "code",
   "execution_count": 36,
   "id": "a550765a-b53d-4b73-a81b-382e3e9ffc41",
   "metadata": {},
   "outputs": [
    {
     "name": "stderr",
     "output_type": "stream",
     "text": [
      "/Users/dgm1sgh/.conda/envs/data_analysis/lib/python3.9/site-packages/sklearn/utils/deprecation.py:87: FutureWarning: Function plot_confusion_matrix is deprecated; Function `plot_confusion_matrix` is deprecated in 1.0 and will be removed in 1.2. Use one of the class methods: ConfusionMatrixDisplay.from_predictions or ConfusionMatrixDisplay.from_estimator.\n",
      "  warnings.warn(msg, category=FutureWarning)\n"
     ]
    },
    {
     "data": {
      "text/plain": [
       "<sklearn.metrics._plot.confusion_matrix.ConfusionMatrixDisplay at 0x7fe010ceec40>"
      ]
     },
     "execution_count": 36,
     "metadata": {},
     "output_type": "execute_result"
    },
    {
     "data": {
      "image/png": "[encoded data removed]",
      "text/plain": [
       "<Figure size 432x288 with 2 Axes>"
      ]
     },
     "metadata": {
      "needs_background": "light"
     },
     "output_type": "display_data"
    }
   ],
   "source": [
    "import sklearn\n",
    "\n",
    "sklearn.metrics.plot_confusion_matrix(clf, test.iloc[:,:11] ,  test.iloc[:,-1])"
   ]
  },
  {
   "cell_type": "code",
   "execution_count": 37,
   "id": "8ae260d5-c96c-4967-8f5d-ea5dbba31b88",
   "metadata": {},
   "outputs": [
    {
     "name": "stderr",
     "output_type": "stream",
     "text": [
      "/Users/dgm1sgh/.conda/envs/data_analysis/lib/python3.9/site-packages/sklearn/utils/deprecation.py:87: FutureWarning: Function plot_confusion_matrix is deprecated; Function `plot_confusion_matrix` is deprecated in 1.0 and will be removed in 1.2. Use one of the class methods: ConfusionMatrixDisplay.from_predictions or ConfusionMatrixDisplay.from_estimator.\n",
      "  warnings.warn(msg, category=FutureWarning)\n"
     ]
    },
    {
     "data": {
      "text/plain": [
       "<sklearn.metrics._plot.confusion_matrix.ConfusionMatrixDisplay at 0x7fdfe8a5e8b0>"
      ]
     },
     "execution_count": 37,
     "metadata": {},
     "output_type": "execute_result"
    },
    {
     "data": {
      "image/png": "[encoded data removed]",
      "text/plain": [
       "<Figure size 432x288 with 2 Axes>"
      ]
     },
     "metadata": {
      "needs_background": "light"
     },
     "output_type": "display_data"
    }
   ],
   "source": [
    "sklearn.metrics.plot_confusion_matrix(clf, train.iloc[:,:11] ,  train.iloc[:,-1])"
   ]
  },
  {
   "cell_type": "code",
   "execution_count": null,
   "id": "8c2265b0-7315-42cc-811f-7bab000b38e9",
   "metadata": {},
   "outputs": [],
   "source": []
  }
 ],
 "metadata": {
  "kernelspec": {
   "display_name": "data_analysis",
   "language": "python",
   "name": "data_analysis"
  },
  "language_info": {
   "codemirror_mode": {
    "name": "ipython",
    "version": 3
   },
   "file_extension": ".py",
   "mimetype": "text/x-python",
   "name": "python",
   "nbconvert_exporter": "python",
   "pygments_lexer": "ipython3",
   "version": "3.9.7"
  }
 },
 "nbformat": 4,
 "nbformat_minor": 5
}
